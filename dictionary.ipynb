{
 "cells": [
  {
   "cell_type": "code",
   "execution_count": 5,
   "metadata": {},
   "outputs": [
    {
     "name": "stdout",
     "output_type": "stream",
     "text": [
      "{'name': 'Pragyan', 'address': 'Bhangal', 'number': '97738383838'}\n"
     ]
    }
   ],
   "source": [
    "a ={\n",
    "    \"id\": 1,\n",
    "    \"name\":\"Pragyan\",\n",
    "    \"address\":\"Bhangal\",\n",
    "    \"number\":\"97738383838\",\n",
    "}\n",
    "print(a)"
   ]
  },
  {
   "cell_type": "code",
   "execution_count": 9,
   "metadata": {},
   "outputs": [
    {
     "name": "stdout",
     "output_type": "stream",
     "text": [
      "Bhangal\n"
     ]
    }
   ],
   "source": [
    "# Accessing the dictionary\n",
    "print(a[\"address\"]) "
   ]
  },
  {
   "cell_type": "code",
   "execution_count": 14,
   "metadata": {},
   "outputs": [
    {
     "data": {
      "text/plain": [
       "dict_values(['Pragyan', 'Bhangal', '97738383838'])"
      ]
     },
     "execution_count": 14,
     "metadata": {},
     "output_type": "execute_result"
    }
   ],
   "source": [
    "# Accessing Multipe Values\n",
    "a.values()\n"
   ]
  },
  {
   "cell_type": "code",
   "execution_count": 15,
   "metadata": {},
   "outputs": [
    {
     "data": {
      "text/plain": [
       "dict_keys(['name', 'address', 'number'])"
      ]
     },
     "execution_count": 15,
     "metadata": {},
     "output_type": "execute_result"
    }
   ],
   "source": [
    "# Accessing Multipe Keys\n",
    "a.keys()"
   ]
  },
  {
   "cell_type": "code",
   "execution_count": 16,
   "metadata": {},
   "outputs": [
    {
     "name": "stdout",
     "output_type": "stream",
     "text": [
      "Addition of dict: {'name': 'Pragyan', 'address': 'Bhangal', 'number': '97738383838'} {'name': 'Krishna', 'address': 'KMC', 'number': '97738383838'}\n"
     ]
    }
   ],
   "source": [
    "a ={\n",
    "    \"name\":\"Pragyan\",\n",
    "    \"address\":\"Bhangal\",\n",
    "    \"number\":\"97738383838\",\n",
    "}\n",
    "b ={\n",
    "    \"name\":\"Krishna\",\n",
    "    \"address\":\"KMC\",\n",
    "    \"number\":\"97738383838\",\n",
    "}\n",
    "print(\"Addition of dict:\",a,b)  "
   ]
  },
  {
   "cell_type": "code",
   "execution_count": 2,
   "metadata": {},
   "outputs": [
    {
     "name": "stdout",
     "output_type": "stream",
     "text": [
      "pragyan\n"
     ]
    }
   ],
   "source": [
    "a = {\n",
    "    \"name\" : [\"pragyan\",\"krishna\",\"ram\"]\n",
    "\n",
    "}\n",
    "print(a[\"name\"][0])"
   ]
  },
  {
   "cell_type": "code",
   "execution_count": 8,
   "metadata": {},
   "outputs": [
    {
     "name": "stdout",
     "output_type": "stream",
     "text": [
      "sudan bhandari 77\n",
      "sudan bhandari 77\n"
     ]
    }
   ],
   "source": [
    "b = {\n",
    "    \"name\": ['sudan', 'bhandari']\n",
    "}\n",
    "a = [b, 1, 3, [1.5, 77, 1]]\n",
    "\n",
    "\n",
    "name1 = a[0][\"name\"][0]\n",
    "name2 = a[0][\"name\"][1]\n",
    "num1 = a[3][1]\n",
    "\n",
    "print(name1,name2,num1)\n",
    "print(f\"{name1} {name2} {num1}\")"
   ]
  },
  {
   "cell_type": "code",
   "execution_count": 7,
   "metadata": {},
   "outputs": [
    {
     "name": "stdout",
     "output_type": "stream",
     "text": [
      "sudan bhandari 77\n"
     ]
    }
   ],
   "source": [
    "b = {\n",
    "    \"name\":['sudan','bhandari']\n",
    "}\n",
    "a = [b,1,3,[1.5,77,1]]\n",
    "c=a[0]\n",
    " \n",
    "d=a[3][1]\n",
    " \n",
    "print(f\"{c[\"name\"][0]} {c[\"name\"][1]} {d}\")"
   ]
  }
 ],
 "metadata": {
  "kernelspec": {
   "display_name": "venv",
   "language": "python",
   "name": "python3"
  },
  "language_info": {
   "codemirror_mode": {
    "name": "ipython",
    "version": 3
   },
   "file_extension": ".py",
   "mimetype": "text/x-python",
   "name": "python",
   "nbconvert_exporter": "python",
   "pygments_lexer": "ipython3",
   "version": "3.12.2"
  }
 },
 "nbformat": 4,
 "nbformat_minor": 2
}

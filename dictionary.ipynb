{
 "cells": [
  {
   "cell_type": "code",
   "execution_count": 5,
   "metadata": {},
   "outputs": [
    {
     "name": "stdout",
     "output_type": "stream",
     "text": [
      "{'name': 'Pragyan', 'address': 'Bhangal', 'number': '97738383838'}\n"
     ]
    }
   ],
   "source": [
    "a ={\n",
    "    \"id\": 1,\n",
    "    \"name\":\"Pragyan\",\n",
    "    \"address\":\"Bhangal\",\n",
    "    \"number\":\"97738383838\",\n",
    "}\n",
    "print(a)"
   ]
  },
  {
   "cell_type": "code",
   "execution_count": 9,
   "metadata": {},
   "outputs": [
    {
     "name": "stdout",
     "output_type": "stream",
     "text": [
      "Bhangal\n"
     ]
    }
   ],
   "source": [
    "# Accessing the dictionary\n",
    "print(a[\"address\"]) "
   ]
  },
  {
   "cell_type": "code",
   "execution_count": 14,
   "metadata": {},
   "outputs": [
    {
     "data": {
      "text/plain": [
       "dict_values(['Pragyan', 'Bhangal', '97738383838'])"
      ]
     },
     "execution_count": 14,
     "metadata": {},
     "output_type": "execute_result"
    }
   ],
   "source": [
    "# Accessing Multipe Values\n",
    "a.values()\n"
   ]
  },
  {
   "cell_type": "code",
   "execution_count": 15,
   "metadata": {},
   "outputs": [
    {
     "data": {
      "text/plain": [
       "dict_keys(['name', 'address', 'number'])"
      ]
     },
     "execution_count": 15,
     "metadata": {},
     "output_type": "execute_result"
    }
   ],
   "source": [
    "# Accessing Multipe Keys\n",
    "a.keys()"
   ]
  },
  {
   "cell_type": "code",
   "execution_count": 16,
   "metadata": {},
   "outputs": [
    {
     "name": "stdout",
     "output_type": "stream",
     "text": [
      "Addition of dict: {'name': 'Pragyan', 'address': 'Bhangal', 'number': '97738383838'} {'name': 'Krishna', 'address': 'KMC', 'number': '97738383838'}\n"
     ]
    }
   ],
   "source": [
    "a ={\n",
    "    \"name\":\"Pragyan\",\n",
    "    \"address\":\"Bhangal\",\n",
    "    \"number\":\"97738383838\",\n",
    "}\n",
    "b ={\n",
    "    \"name\":\"Krishna\",\n",
    "    \"address\":\"KMC\",\n",
    "    \"number\":\"97738383838\",\n",
    "}\n",
    "print(\"Addition of dict:\",a,b)  "
   ]
  },
  {
   "cell_type": "code",
   "execution_count": 2,
   "metadata": {},
   "outputs": [
    {
     "name": "stdout",
     "output_type": "stream",
     "text": [
      "pragyan\n"
     ]
    }
   ],
   "source": [
    "a = {\n",
    "    \"name\" : [\"pragyan\",\"krishna\",\"ram\"]\n",
    "\n",
    "}\n",
    "print(a[\"name\"][0])"
   ]
  },
  {
   "cell_type": "code",
   "execution_count": 8,
   "metadata": {},
   "outputs": [
    {
     "name": "stdout",
     "output_type": "stream",
     "text": [
      "sudan bhandari 77\n",
      "sudan bhandari 77\n"
     ]
    }
   ],
   "source": [
    "b = {\n",
    "    \"name\": ['sudan', 'bhandari']\n",
    "}\n",
    "a = [b, 1, 3, [1.5, 77, 1]]\n",
    "\n",
    "\n",
    "name1 = a[0][\"name\"][0]\n",
    "name2 = a[0][\"name\"][1]\n",
    "num1 = a[3][1]\n",
    "\n",
    "print(name1,name2,num1)\n",
    "print(f\"{name1} {name2} {num1}\")"
   ]
  },
  {
   "cell_type": "code",
   "execution_count": 9,
   "metadata": {},
   "outputs": [
    {
     "name": "stdout",
     "output_type": "stream",
     "text": [
      "sudan bhandari 77\n"
     ]
    }
   ],
   "source": [
    "b = {\n",
    "    \"name\":['sudan','bhandari']\n",
    "}\n",
    "a = [b,1,3,[1.5,77,1]]\n",
    "c=a[0]\n",
    " \n",
    "d=a[3][1]\n",
    " \n",
    "print(f\"{c[\"name\"][0]} {c[\"name\"][1]} {d}\")"
   ]
  },
  {
   "cell_type": "code",
   "execution_count": 12,
   "metadata": {},
   "outputs": [
    {
     "ename": "TypeError",
     "evalue": "unhashable type: 'dict'",
     "output_type": "error",
     "traceback": [
      "\u001b[1;31m---------------------------------------------------------------------------\u001b[0m",
      "\u001b[1;31mTypeError\u001b[0m                                 Traceback (most recent call last)",
      "Cell \u001b[1;32mIn[12], line 16\u001b[0m\n\u001b[0;32m      6\u001b[0m ParentsInfo \u001b[38;5;241m=\u001b[39m {\n\u001b[0;32m      7\u001b[0m     \u001b[38;5;124m\"\u001b[39m\u001b[38;5;124mnames\u001b[39m\u001b[38;5;124m\"\u001b[39m:[\u001b[38;5;124m\"\u001b[39m\u001b[38;5;124mShanta Khadka\u001b[39m\u001b[38;5;124m\"\u001b[39m,\u001b[38;5;124m\"\u001b[39m\u001b[38;5;124mKrish Bhatta\u001b[39m\u001b[38;5;124m\"\u001b[39m,\u001b[38;5;124m\"\u001b[39m\u001b[38;5;124mBimal Khadka\u001b[39m\u001b[38;5;124m\"\u001b[39m,\u001b[38;5;124m\"\u001b[39m\u001b[38;5;124mPratima Chapagain\u001b[39m\u001b[38;5;124m\"\u001b[39m],\n\u001b[0;32m      8\u001b[0m     \u001b[38;5;124m\"\u001b[39m\u001b[38;5;124mId\u001b[39m\u001b[38;5;124m\"\u001b[39m:[\u001b[38;5;241m1\u001b[39m,\u001b[38;5;241m2\u001b[39m,\u001b[38;5;241m3\u001b[39m,\u001b[38;5;241m4\u001b[39m],\n\u001b[0;32m      9\u001b[0m     \u001b[38;5;124m\"\u001b[39m\u001b[38;5;124mAddress\u001b[39m\u001b[38;5;124m\"\u001b[39m:[\u001b[38;5;124m\"\u001b[39m\u001b[38;5;124mBhangal\u001b[39m\u001b[38;5;124m\"\u001b[39m,\u001b[38;5;124m\"\u001b[39m\u001b[38;5;124mBhimsengola\u001b[39m\u001b[38;5;124m\"\u001b[39m,\u001b[38;5;124m\"\u001b[39m\u001b[38;5;124mBhangal\u001b[39m\u001b[38;5;124m\"\u001b[39m,\u001b[38;5;124m\"\u001b[39m\u001b[38;5;124mBhimsengola\u001b[39m\u001b[38;5;124m\"\u001b[39m]\n\u001b[0;32m     10\u001b[0m }\n\u001b[0;32m     11\u001b[0m ParentsWorkType \u001b[38;5;241m=\u001b[39m {\n\u001b[0;32m     12\u001b[0m     \u001b[38;5;124m\"\u001b[39m\u001b[38;5;124mProfession\u001b[39m\u001b[38;5;124m\"\u001b[39m:[\u001b[38;5;124m\"\u001b[39m\u001b[38;5;124mCivil Engineer\u001b[39m\u001b[38;5;124m\"\u001b[39m,\u001b[38;5;124m\"\u001b[39m\u001b[38;5;124mIT Technician\u001b[39m\u001b[38;5;124m\"\u001b[39m,\u001b[38;5;124m\"\u001b[39m\u001b[38;5;124mDoctor\u001b[39m\u001b[38;5;124m\"\u001b[39m,\u001b[38;5;124m\"\u001b[39m\u001b[38;5;124mBanker\u001b[39m\u001b[38;5;124m\"\u001b[39m],\n\u001b[0;32m     13\u001b[0m     \u001b[38;5;124m\"\u001b[39m\u001b[38;5;124mEmploymentStatus\u001b[39m\u001b[38;5;124m\"\u001b[39m:[\u001b[38;5;124m\"\u001b[39m\u001b[38;5;124mEmployed\u001b[39m\u001b[38;5;124m\"\u001b[39m,\u001b[38;5;124m\"\u001b[39m\u001b[38;5;124mEmployed\u001b[39m\u001b[38;5;124m\"\u001b[39m,\u001b[38;5;124m\"\u001b[39m\u001b[38;5;124mEmployed\u001b[39m\u001b[38;5;124m\"\u001b[39m,\u001b[38;5;124m\"\u001b[39m\u001b[38;5;124mEmployed\u001b[39m\u001b[38;5;124m\"\u001b[39m],\n\u001b[0;32m     14\u001b[0m     \u001b[38;5;124m\"\u001b[39m\u001b[38;5;124mAddress\u001b[39m\u001b[38;5;124m\"\u001b[39m:[\u001b[38;5;124m\"\u001b[39m\u001b[38;5;124mBhangal\u001b[39m\u001b[38;5;124m\"\u001b[39m,\u001b[38;5;124m\"\u001b[39m\u001b[38;5;124mBhimsengola\u001b[39m\u001b[38;5;124m\"\u001b[39m,\u001b[38;5;124m\"\u001b[39m\u001b[38;5;124mBhangal\u001b[39m\u001b[38;5;124m\"\u001b[39m,\u001b[38;5;124m\"\u001b[39m\u001b[38;5;124mBhimsengola\u001b[39m\u001b[38;5;124m\"\u001b[39m]\n\u001b[0;32m     15\u001b[0m }\n\u001b[1;32m---> 16\u001b[0m getCredintials \u001b[38;5;241m=\u001b[39m {Credentials,ParentsInfo,ParentsWorkType}\n\u001b[0;32m     17\u001b[0m \u001b[38;5;28mprint\u001b[39m(\u001b[38;5;124mf\u001b[39m\u001b[38;5;124m\"\u001b[39m\u001b[38;5;132;01m{\u001b[39;00mgetCredintials\u001b[38;5;132;01m}\u001b[39;00m\u001b[38;5;124m\"\u001b[39m)\n",
      "\u001b[1;31mTypeError\u001b[0m: unhashable type: 'dict'"
     ]
    }
   ],
   "source": [
    "# Credentials = {\n",
    "#     \"names\":[\"Pragyan Khadka\",\"Krishna Bhatta\",\"Prapti Khadka\",\"Dikshyant Chapagain\"],\n",
    "#     \"Id\":[1,2,3,4],\n",
    "#     \"Address\":[\"Bhangal\",\"Bhimsengola\",\"Bhangal\",\"Bhimsengola\"]\n",
    "# }\n",
    "# ParentsInfo = {\n",
    "#     \"names\":[\"Shanta Khadka\",\"Krish Bhatta\",\"Bimal Khadka\",\"Pratima Chapagain\"],\n",
    "#     \"Id\":[1,2,3,4],\n",
    "#     \"Address\":[\"Bhangal\",\"Bhimsengola\",\"Bhangal\",\"Bhimsengola\"]\n",
    "# }\n",
    "# ParentsWorkType = {\n",
    "#     \"Profession\":[\"Civil Engineer\",\"IT Technician\",\"Doctor\",\"Banker\"],\n",
    "#     \"EmploymentStatus\":[\"Employed\",\"Employed\",\"Employed\",\"Employed\"],\n",
    "#     \"Address\":[\"Bhangal\",\"Bhimsengola\",\"Bhangal\",\"Bhimsengola\"]\n",
    "# }\n",
    "# getCredintials = {Credentials,ParentsInfo,ParentsWorkType}\n",
    "# print(f\"{getCredintials}\")"
   ]
  },
  {
   "cell_type": "code",
   "execution_count": null,
   "metadata": {},
   "outputs": [],
   "source": []
  },
  {
   "cell_type": "code",
   "execution_count": 5,
   "metadata": {},
   "outputs": [
    {
     "name": "stdout",
     "output_type": "stream",
     "text": [
      "['sudan', 'bhandari']\n",
      "{'name': 'sudan', 'phone': 23737}\n"
     ]
    }
   ],
   "source": [
    "a ={\n",
    "    \"name\":['sudan','bhandari'],\n",
    "    \"phone\":23737\n",
    "}\n",
    "print(a[\"name\"])\n",
    "a[\"name\"] = \"sudan\"\n",
    "print(a)\n",
    " "
   ]
  },
  {
   "cell_type": "code",
   "execution_count": 8,
   "metadata": {},
   "outputs": [
    {
     "name": "stdout",
     "output_type": "stream",
     "text": [
      "{'name': 'broadway', 'phone': 980, 'age': 11}\n"
     ]
    }
   ],
   "source": [
    "# using update method to update a key in dictionary\n",
    "a = {\n",
    "    \"name\":\"broadway\",\n",
    "    \"phone\":980\n",
    "}\n",
    "a.update({\"age\":11})\n",
    "print(a)"
   ]
  },
  {
   "cell_type": "code",
   "execution_count": 10,
   "metadata": {},
   "outputs": [
    {
     "name": "stdout",
     "output_type": "stream",
     "text": [
      "Clear method {}\n"
     ]
    }
   ],
   "source": [
    "#clear method\n",
    "a.clear()\n",
    "print(\"Clear method\",a)"
   ]
  },
  {
   "cell_type": "code",
   "execution_count": 11,
   "metadata": {},
   "outputs": [
    {
     "ename": "NameError",
     "evalue": "name 'a' is not defined",
     "output_type": "error",
     "traceback": [
      "\u001b[1;31m---------------------------------------------------------------------------\u001b[0m",
      "\u001b[1;31mNameError\u001b[0m                                 Traceback (most recent call last)",
      "Cell \u001b[1;32mIn[11], line 3\u001b[0m\n\u001b[0;32m      1\u001b[0m \u001b[38;5;66;03m# Delete method\u001b[39;00m\n\u001b[0;32m      2\u001b[0m \u001b[38;5;28;01mdel\u001b[39;00m a\n\u001b[1;32m----> 3\u001b[0m \u001b[38;5;28mprint\u001b[39m(\u001b[43ma\u001b[49m)\n",
      "\u001b[1;31mNameError\u001b[0m: name 'a' is not defined"
     ]
    }
   ],
   "source": [
    "# Delete method\n",
    "del a\n",
    "print(a)"
   ]
  },
  {
   "cell_type": "code",
   "execution_count": 13,
   "metadata": {},
   "outputs": [
    {
     "name": "stdout",
     "output_type": "stream",
     "text": [
      "{'phone': 980}\n"
     ]
    }
   ],
   "source": [
    "# pop method \n",
    "a = {\n",
    "    \"name\":[\"broadway\",\"infosys\"],\n",
    "    \"phone\":980\n",
    "}\n",
    "a.pop(\"name\")\n",
    "print(a)   "
   ]
  },
  {
   "cell_type": "code",
   "execution_count": 14,
   "metadata": {},
   "outputs": [
    {
     "name": "stdout",
     "output_type": "stream",
     "text": [
      "{'city': 'Kathmandu', 'workcity': 'Kathmandu'}\n"
     ]
    }
   ],
   "source": [
    "data ={\n",
    "    \"city\":\"Kathmandu\",\n",
    "    \"workcity\": \"Kathmandu\",\n",
    "    \"address\":\"budhanilkantha\"\n",
    "}\n",
    "data.popitem()\n",
    "print(data)"
   ]
  },
  {
   "cell_type": "code",
   "execution_count": 15,
   "metadata": {},
   "outputs": [
    {
     "name": "stdout",
     "output_type": "stream",
     "text": [
      "copy a dictionary {'name': ['broadway', 'infosys'], 'phone': 980}\n"
     ]
    }
   ],
   "source": [
    "a = {\n",
    "    \"name\":[\"broadway\",\"infosys\"],\n",
    "    \"phone\":980\n",
    "}\n",
    "b = a.copy()\n",
    "print(\"copy a dictionary\",b)"
   ]
  },
  {
   "cell_type": "code",
   "execution_count": 17,
   "metadata": {},
   "outputs": [
    {
     "name": "stdout",
     "output_type": "stream",
     "text": [
      "{'name': ['broadway', 'infosys'], 'phone': 980}\n"
     ]
    }
   ],
   "source": [
    "a = {\n",
    "    \"name\":[\"broadway\",\"infosys\"],\n",
    "    \"phone\":980\n",
    "}\n",
    "b = dict(a)\n",
    "print(b)"
   ]
  },
  {
   "cell_type": "code",
   "execution_count": 18,
   "metadata": {},
   "outputs": [
    {
     "name": "stdout",
     "output_type": "stream",
     "text": [
      "Kamalpokhari\n"
     ]
    }
   ],
   "source": [
    "data ={\n",
    "    [\"Name\":\"Pragyan\",\n",
    "    \"College\":\n",
    "      {\n",
    "        \"name\": \"ICK\",\n",
    "        \"address\":\"Kamalpokhari\"\n",
    "\n",
    "      },\n",
    "      {\n",
    "          \"name\":\"Global\"\n",
    "          \"address\":\"Mid-Baneshwor\"\n",
    "          \n",
    "      }\n",
    "    ], \n",
    "}\n",
    "collegeAddress = data[\"College\"][\"address\"]\n",
    "print(collegeAddress)\n"
   ]
  }
 ],
 "metadata": {
  "kernelspec": {
   "display_name": "venv",
   "language": "python",
   "name": "python3"
  },
  "language_info": {
   "codemirror_mode": {
    "name": "ipython",
    "version": 3
   },
   "file_extension": ".py",
   "mimetype": "text/x-python",
   "name": "python",
   "nbconvert_exporter": "python",
   "pygments_lexer": "ipython3",
   "version": "3.12.2"
  }
 },
 "nbformat": 4,
 "nbformat_minor": 2
}

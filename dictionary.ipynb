{
 "cells": [
  {
   "cell_type": "code",
   "execution_count": 5,
   "metadata": {},
   "outputs": [
    {
     "name": "stdout",
     "output_type": "stream",
     "text": [
      "{'name': 'Pragyan', 'address': 'Bhangal', 'number': '97738383838'}\n"
     ]
    }
   ],
   "source": [
    "a ={\n",
    "    \"id\": 1,\n",
    "    \"name\":\"Pragyan\",\n",
    "    \"address\":\"Bhangal\",\n",
    "    \"number\":\"97738383838\",\n",
    "}\n",
    "print(a)"
   ]
  },
  {
   "cell_type": "code",
   "execution_count": 9,
   "metadata": {},
   "outputs": [
    {
     "name": "stdout",
     "output_type": "stream",
     "text": [
      "Bhangal\n"
     ]
    }
   ],
   "source": [
    "# Accessing the dictionary\n",
    "print(a[\"address\"]) "
   ]
  },
  {
   "cell_type": "code",
   "execution_count": 14,
   "metadata": {},
   "outputs": [
    {
     "data": {
      "text/plain": [
       "dict_values(['Pragyan', 'Bhangal', '97738383838'])"
      ]
     },
     "execution_count": 14,
     "metadata": {},
     "output_type": "execute_result"
    }
   ],
   "source": [
    "# Accessing Multipe Values\n",
    "a.values()\n"
   ]
  },
  {
   "cell_type": "code",
   "execution_count": 15,
   "metadata": {},
   "outputs": [
    {
     "data": {
      "text/plain": [
       "dict_keys(['name', 'address', 'number'])"
      ]
     },
     "execution_count": 15,
     "metadata": {},
     "output_type": "execute_result"
    }
   ],
   "source": [
    "# Accessing Multipe Keys\n",
    "a.keys()"
   ]
  },
  {
   "cell_type": "code",
   "execution_count": 16,
   "metadata": {},
   "outputs": [
    {
     "name": "stdout",
     "output_type": "stream",
     "text": [
      "Addition of dict: {'name': 'Pragyan', 'address': 'Bhangal', 'number': '97738383838'} {'name': 'Krishna', 'address': 'KMC', 'number': '97738383838'}\n"
     ]
    }
   ],
   "source": [
    "a ={\n",
    "    \"name\":\"Pragyan\",\n",
    "    \"address\":\"Bhangal\",\n",
    "    \"number\":\"97738383838\",\n",
    "}\n",
    "b ={\n",
    "    \"name\":\"Krishna\",\n",
    "    \"address\":\"KMC\",\n",
    "    \"number\":\"97738383838\",\n",
    "}\n",
    "print(\"Addition of dict:\",a,b)  "
   ]
  }
 ],
 "metadata": {
  "kernelspec": {
   "display_name": "venv",
   "language": "python",
   "name": "python3"
  },
  "language_info": {
   "codemirror_mode": {
    "name": "ipython",
    "version": 3
   },
   "file_extension": ".py",
   "mimetype": "text/x-python",
   "name": "python",
   "nbconvert_exporter": "python",
   "pygments_lexer": "ipython3",
   "version": "3.12.2"
  }
 },
 "nbformat": 4,
 "nbformat_minor": 2
}
